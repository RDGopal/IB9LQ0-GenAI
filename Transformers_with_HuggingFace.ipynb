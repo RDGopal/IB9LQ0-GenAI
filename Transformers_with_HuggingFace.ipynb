{
  "nbformat": 4,
  "nbformat_minor": 0,
  "metadata": {
    "colab": {
      "provenance": [],
      "gpuType": "T4",
      "mount_file_id": "1OYK7P4WMtz17KcJzlOn4y-4n0kn2ctKh",
      "authorship_tag": "ABX9TyPunbDE5K+aRmS+aXLZm1xW",
      "include_colab_link": true
    },
    "kernelspec": {
      "name": "python3",
      "display_name": "Python 3"
    },
    "language_info": {
      "name": "python"
    },
    "accelerator": "GPU"
  },
  "cells": [
    {
      "cell_type": "markdown",
      "metadata": {
        "id": "view-in-github",
        "colab_type": "text"
      },
      "source": [
        "<a href=\"https://colab.research.google.com/github/RDGopal/IB9LQ0-GenAI/blob/main/Transformers_with_HuggingFace.ipynb\" target=\"_parent\"><img src=\"https://colab.research.google.com/assets/colab-badge.svg\" alt=\"Open In Colab\"/></a>"
      ]
    },
    {
      "cell_type": "markdown",
      "source": [
        "# HuggingFace Transformers"
      ],
      "metadata": {
        "id": "fOf5WWM4dDi9"
      }
    },
    {
      "cell_type": "markdown",
      "source": [
        "#Install Transformers"
      ],
      "metadata": {
        "id": "3itfVTs3DmZY"
      }
    },
    {
      "cell_type": "markdown",
      "source": [
        "[Resource](https://huggingface.co/learn/llm-course/chapter1/1?fw=pt)\n"
      ],
      "metadata": {
        "id": "sXjoeXTsyuyz"
      }
    },
    {
      "cell_type": "code",
      "source": [
        "!pip install transformers"
      ],
      "metadata": {
        "id": "ijA-Inl8zjBB"
      },
      "execution_count": null,
      "outputs": []
    },
    {
      "cell_type": "code",
      "source": [
        "from IPython.display import display, Markdown"
      ],
      "metadata": {
        "id": "lg_us24Czhov"
      },
      "execution_count": null,
      "outputs": []
    },
    {
      "cell_type": "markdown",
      "source": [
        "#Pipelines\n",
        "\n",
        "The `pipeline()` function connects a model with its necessary preprocessing and postprocessing steps, allowing us to directly input any text and get an intelligible answer.\n",
        "\n",
        "There are three main steps involved when you pass some text to a pipeline:\n",
        "\n",
        "1. The text is preprocessed into a format the model can understand.\n",
        "2. The preprocessed inputs are passed to the model.\n",
        "3. The predictions of the model are post-processed, so you can make sense of them.\n",
        "\n",
        "\n",
        "\n",
        "Some of the currently available pipelines are:\n",
        "\n",
        "* feature-extraction (get the vector representation of a text)\n",
        "\n",
        "* fill-mask\n",
        "\n",
        "* ner (named entity recognition)\n",
        "\n",
        "* question-answering\n",
        "\n",
        "* sentiment-analysis\n",
        "\n",
        "* summarization\n",
        "\n",
        "* text-generation\n",
        "\n",
        "* translation\n",
        "\n",
        "* zero-shot-classification"
      ],
      "metadata": {
        "id": "4KVO-8PB0epv"
      }
    },
    {
      "cell_type": "markdown",
      "source": [
        "Models available on HuggingFace: [Models](https://huggingface.co/models)"
      ],
      "metadata": {
        "id": "ql8cZrTdCXgV"
      }
    },
    {
      "cell_type": "markdown",
      "source": [
        "#Sentiment Analysis"
      ],
      "metadata": {
        "id": "QvdbwYpBDuP1"
      }
    },
    {
      "cell_type": "code",
      "execution_count": null,
      "metadata": {
        "id": "Id3r1YOXyeFJ"
      },
      "outputs": [],
      "source": [
        "from transformers import pipeline\n",
        "\n",
        "classifier = pipeline(\"sentiment-analysis\", model=\"distilbert-base-uncased-finetuned-sst-2-english\")\n"
      ]
    },
    {
      "cell_type": "code",
      "source": [
        "classifier(\"This is quite difficult\")"
      ],
      "metadata": {
        "id": "kxSLO2MEz0Hu"
      },
      "execution_count": null,
      "outputs": []
    },
    {
      "cell_type": "markdown",
      "source": [
        "##Sentiment Analysis - Batch Processing\n",
        "\n",
        "We will read the first 100 rows of the `sms_spam.csv` and calculate the sentiment scores."
      ],
      "metadata": {
        "id": "vDTcBGGK5rUy"
      }
    },
    {
      "cell_type": "code",
      "source": [
        "import pandas as pd\n",
        "df = pd.read_csv('https://raw.githubusercontent.com/RDGopal/IB9LQ0-GenAI/main/Data/sms_spam.csv',nrows=100)"
      ],
      "metadata": {
        "id": "ysli7eIXzy4e"
      },
      "execution_count": null,
      "outputs": []
    },
    {
      "cell_type": "code",
      "source": [
        "df"
      ],
      "metadata": {
        "id": "LdaMF4-g6U_K"
      },
      "execution_count": null,
      "outputs": []
    },
    {
      "cell_type": "code",
      "source": [
        "try:\n",
        "    results = classifier(df['text'].tolist())\n",
        "except Exception as e:\n",
        "    print(f\"An error occurred: {e}\")\n",
        "\n",
        "labels = [item['label'] for item in results]\n",
        "scores = [item['score'] for item in results]\n",
        "\n",
        "df['sentiment_label'] = labels\n",
        "df['sentiment_score'] = scores"
      ],
      "metadata": {
        "id": "uF0PcKzN6IYb"
      },
      "execution_count": null,
      "outputs": []
    },
    {
      "cell_type": "code",
      "source": [
        "df"
      ],
      "metadata": {
        "id": "BWtHHV1q66fD"
      },
      "execution_count": null,
      "outputs": []
    },
    {
      "cell_type": "markdown",
      "source": [
        "#Zero shot classification"
      ],
      "metadata": {
        "id": "el2oLLbdD4je"
      }
    },
    {
      "cell_type": "code",
      "source": [
        "classifier = pipeline(\"zero-shot-classification\", model=\"facebook/bart-large-mnli\")"
      ],
      "metadata": {
        "id": "TXaB1Hl91S6j"
      },
      "execution_count": null,
      "outputs": []
    },
    {
      "cell_type": "code",
      "source": [
        "classifier(\n",
        "    \"This is a discussion about world history\",\n",
        "    candidate_labels=[\"education\", \"politics\", \"business\"],\n",
        ")"
      ],
      "metadata": {
        "id": "vEPXEEL18jry"
      },
      "execution_count": null,
      "outputs": []
    },
    {
      "cell_type": "markdown",
      "source": [
        "#Text generation"
      ],
      "metadata": {
        "id": "TvqlEDeIELvs"
      }
    },
    {
      "cell_type": "code",
      "source": [
        "generator = pipeline('text-generation', model='gpt2')"
      ],
      "metadata": {
        "id": "9YUyoVk618-T"
      },
      "execution_count": null,
      "outputs": []
    },
    {
      "cell_type": "code",
      "source": [
        "output = generator(\n",
        "    \"When you are on a diet\",\n",
        "    max_length=50,\n",
        "    num_return_sequences=1,\n",
        ")\n",
        "# Extract the generated text from the list of dictionaries\n",
        "generated_texts = [item['generated_text'] for item in output]\n",
        "# Join the generated texts into a single string\n",
        "display(Markdown(\"\\n\".join(generated_texts)))"
      ],
      "metadata": {
        "id": "hcQ6-HPu8205"
      },
      "execution_count": null,
      "outputs": []
    },
    {
      "cell_type": "markdown",
      "source": [
        "#Fill mask"
      ],
      "metadata": {
        "id": "5qHVic2XF5YT"
      }
    },
    {
      "cell_type": "code",
      "source": [
        "unmasker = pipeline(\"fill-mask\", model = \"distilroberta-base\")"
      ],
      "metadata": {
        "id": "KceQ4oX0_zFI"
      },
      "execution_count": null,
      "outputs": []
    },
    {
      "cell_type": "code",
      "source": [
        "unmasker(\"This course will teach you all about <mask> models.\", top_k=5)"
      ],
      "metadata": {
        "id": "J2UsfL559PQy"
      },
      "execution_count": null,
      "outputs": []
    },
    {
      "cell_type": "markdown",
      "source": [
        "#Named Entity Recognition"
      ],
      "metadata": {
        "id": "wDv-oL6lGAdB"
      }
    },
    {
      "cell_type": "code",
      "source": [
        "ner = pipeline(\"ner\", grouped_entities=True, model=\"dbmdz/bert-large-cased-finetuned-conll03-english\")"
      ],
      "metadata": {
        "id": "vtiZ6p0tEhhZ"
      },
      "execution_count": null,
      "outputs": []
    },
    {
      "cell_type": "code",
      "source": [
        "ner(\"My name is Ram and I work at WBS in Coventry.\")"
      ],
      "metadata": {
        "id": "2uqBUzLE9k-x"
      },
      "execution_count": null,
      "outputs": []
    },
    {
      "cell_type": "markdown",
      "source": [
        "#Question Answering"
      ],
      "metadata": {
        "id": "GUxxnXAjJ7Iu"
      }
    },
    {
      "cell_type": "code",
      "source": [
        "question_answerer = pipeline(\"question-answering\",model=\"distilbert-base-cased-distilled-squad\")"
      ],
      "metadata": {
        "id": "BWSNiOziGy79"
      },
      "execution_count": null,
      "outputs": []
    },
    {
      "cell_type": "code",
      "source": [
        "question_answerer(\n",
        "    question=\"Where do I work?\",\n",
        "    context=\"My name is Ram and I work at WBS in Coventry, UK\",\n",
        ")"
      ],
      "metadata": {
        "id": "IUxI-Xsu-Aeh"
      },
      "execution_count": null,
      "outputs": []
    },
    {
      "cell_type": "code",
      "source": [
        "question_answerer(\n",
        "    question=\"Which city do I work in?\",\n",
        "    context=\"My name is Ram and I work at WBS in Coventry, UK\",\n",
        ")"
      ],
      "metadata": {
        "id": "Q2X9egzj-S2g"
      },
      "execution_count": null,
      "outputs": []
    },
    {
      "cell_type": "markdown",
      "source": [
        "#Summarization"
      ],
      "metadata": {
        "id": "mFguC-xJKMw-"
      }
    },
    {
      "cell_type": "code",
      "source": [
        "summarizer = pipeline(\"summarization\", model = \"sshleifer/distilbart-cnn-12-6\")"
      ],
      "metadata": {
        "id": "QEgzjs3_HP3F"
      },
      "execution_count": null,
      "outputs": []
    },
    {
      "cell_type": "code",
      "source": [
        "output = summarizer(\n",
        "    \"\"\"\n",
        "    America has changed dramatically during recent years. Not only has the number of\n",
        "    graduates in traditional engineering disciplines such as mechanical, civil,\n",
        "    electrical, chemical, and aeronautical engineering declined, but in most of\n",
        "    the premier American universities engineering curricula now concentrate on\n",
        "    and encourage largely the study of engineering science. As a result, there\n",
        "    are declining offerings in engineering subjects dealing with infrastructure,\n",
        "    the environment, and related issues, and greater concentration on high\n",
        "    technology subjects, largely supporting increasingly complex scientific\n",
        "    developments. While the latter is important, it should not be at the expense\n",
        "    of more traditional engineering.\n",
        "\n",
        "    Rapidly developing economies such as China and India, as well as other\n",
        "    industrial countries in Europe and Asia, continue to encourage and advance\n",
        "    the teaching of engineering. Both China and India, respectively, graduate\n",
        "    six and eight times as many traditional engineers as does the United States.\n",
        "    Other industrial countries at minimum maintain their output, while America\n",
        "    suffers an increasingly serious decline in the number of engineering graduates\n",
        "    and a lack of well-educated engineers.\n",
        "\"\"\"\n",
        ")\n",
        "display(Markdown(output[0]['summary_text']))"
      ],
      "metadata": {
        "id": "Ctm4xaiv-xpB"
      },
      "execution_count": null,
      "outputs": []
    },
    {
      "cell_type": "markdown",
      "source": [
        "#Translation"
      ],
      "metadata": {
        "id": "0x1yA5NNK4m3"
      }
    },
    {
      "cell_type": "code",
      "source": [
        "trans = pipeline(\"translation_en_to_fr\", model = \"t5-base\")"
      ],
      "metadata": {
        "id": "BQASSWWAHtPv"
      },
      "execution_count": null,
      "outputs": []
    },
    {
      "cell_type": "code",
      "source": [
        "y = trans(\"good evening\")\n",
        "list(y)"
      ],
      "metadata": {
        "id": "bkGwMuBY_RF7"
      },
      "execution_count": null,
      "outputs": []
    },
    {
      "cell_type": "markdown",
      "source": [
        "\n",
        "\n",
        "---\n",
        "\n"
      ],
      "metadata": {
        "id": "rJAlnzTnLTDq"
      }
    }
  ]
}