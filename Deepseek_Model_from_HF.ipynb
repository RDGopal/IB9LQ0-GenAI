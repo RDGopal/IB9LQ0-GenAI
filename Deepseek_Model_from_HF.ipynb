{
  "nbformat": 4,
  "nbformat_minor": 0,
  "metadata": {
    "colab": {
      "provenance": [],
      "machine_shape": "hm",
      "gpuType": "T4",
      "authorship_tag": "ABX9TyN4G2E6CJQQRV/GPcWtNs+l",
      "include_colab_link": true
    },
    "kernelspec": {
      "name": "python3",
      "display_name": "Python 3"
    },
    "language_info": {
      "name": "python"
    },
    "accelerator": "GPU"
  },
  "cells": [
    {
      "cell_type": "markdown",
      "metadata": {
        "id": "view-in-github",
        "colab_type": "text"
      },
      "source": [
        "<a href=\"https://colab.research.google.com/github/RDGopal/IB9LQ0-GenAI/blob/main/Deepseek_Model_from_HF.ipynb\" target=\"_parent\"><img src=\"https://colab.research.google.com/assets/colab-badge.svg\" alt=\"Open In Colab\"/></a>"
      ]
    },
    {
      "cell_type": "markdown",
      "source": [
        "#In this notebook, we will see the difference between a base model and a chat (instruct) model."
      ],
      "metadata": {
        "id": "2iyo6hpFhpSC"
      }
    },
    {
      "cell_type": "markdown",
      "source": [
        "#Deepseek-llm-7b-base Model from HuggingFace"
      ],
      "metadata": {
        "id": "tVCAcwREecpJ"
      }
    },
    {
      "cell_type": "code",
      "source": [
        "import warnings\n",
        "warnings.filterwarnings('ignore')  # Ignore all warnings"
      ],
      "metadata": {
        "id": "HM4TY-HMgUN4"
      },
      "execution_count": null,
      "outputs": []
    },
    {
      "cell_type": "code",
      "source": [
        "from IPython.display import display, Markdown"
      ],
      "metadata": {
        "id": "lg_us24Czhov"
      },
      "execution_count": null,
      "outputs": []
    },
    {
      "cell_type": "code",
      "source": [
        "import torch\n",
        "from transformers import AutoTokenizer, AutoModelForCausalLM\n",
        "\n",
        "# Use a publicly available DeepSeek model\n",
        "model_name = \"deepseek-ai/deepseek-llm-7b-base\"  # This is a known public model\n",
        "\n",
        "# Load tokenizer and model\n",
        "tokenizer = AutoTokenizer.from_pretrained(model_name)\n",
        "model = AutoModelForCausalLM.from_pretrained(\n",
        "    model_name,\n",
        "    torch_dtype=torch.float16,\n",
        "    device_map=\"auto\"\n",
        ")"
      ],
      "metadata": {
        "id": "0dEHH5KYc1Z7"
      },
      "execution_count": null,
      "outputs": []
    },
    {
      "cell_type": "markdown",
      "source": [
        "##Simple Prompt"
      ],
      "metadata": {
        "id": "HXBew0WG0dm1"
      }
    },
    {
      "cell_type": "code",
      "source": [
        "# Create a prompt\n",
        "prompt = \"Things to do in Birmingham\" #@param {type:\"string\"}\n",
        "inputs = tokenizer(prompt, return_tensors=\"pt\").to(model.device)\n",
        "\n",
        "# Generate text\n",
        "generate_ids = model.generate(\n",
        "    inputs.input_ids,\n",
        "    max_length=100,\n",
        "    do_sample=True,\n",
        "    temperature=0.7\n",
        ")"
      ],
      "metadata": {
        "id": "UvW0_tsIdR6L"
      },
      "execution_count": null,
      "outputs": []
    },
    {
      "cell_type": "code",
      "source": [
        "# Decode the generated text\n",
        "output = tokenizer.batch_decode(generate_ids, skip_special_tokens=True, clean_up_tokenization_spaces=False)[0]\n",
        "display(Markdown(output))"
      ],
      "metadata": {
        "id": "oWMApBSIzARH"
      },
      "execution_count": null,
      "outputs": []
    },
    {
      "cell_type": "markdown",
      "source": [
        "##Prompt with more Instructions"
      ],
      "metadata": {
        "id": "j4MDzk_o0hl8"
      }
    },
    {
      "cell_type": "code",
      "source": [
        "instruction = '''\n",
        "You are a helpful assistant that helps with correct answers to user questions.\n",
        "Below are a few examples to illustrate how to answer the questions.\n",
        "1+1  Answer = 2\n",
        "3+7 Answer = 10\n",
        "10+20 Answer = 30\n",
        "45+5 Answer = 50\n",
        "'''"
      ],
      "metadata": {
        "id": "ol6rSvUp1Zo0"
      },
      "execution_count": null,
      "outputs": []
    },
    {
      "cell_type": "code",
      "source": [
        "display(Markdown(instruction))"
      ],
      "metadata": {
        "id": "o3VyP9Rf152W"
      },
      "execution_count": null,
      "outputs": []
    },
    {
      "cell_type": "code",
      "source": [
        "# Create a prompt\n",
        "msg = \"75+45\" #@param {type:\"string\"}\n",
        "prompt = instruction + msg\n",
        "inputs = tokenizer(prompt, return_tensors=\"pt\").to(model.device)\n",
        "\n",
        "# Generate text\n",
        "generate_ids = model.generate(\n",
        "    inputs.input_ids,\n",
        "    max_length=100,\n",
        "    do_sample=True,\n",
        "    temperature=0.7\n",
        ")"
      ],
      "metadata": {
        "id": "AcHdUC090oSg"
      },
      "execution_count": null,
      "outputs": []
    },
    {
      "cell_type": "code",
      "source": [
        "# Decode the generated text\n",
        "output = tokenizer.batch_decode(generate_ids, skip_special_tokens=True, clean_up_tokenization_spaces=False)[0]\n",
        "display(Markdown(output))"
      ],
      "metadata": {
        "id": "qANgm3wO08KA"
      },
      "execution_count": null,
      "outputs": []
    },
    {
      "cell_type": "markdown",
      "source": [
        "#Deepseek-llm-7b-Chat Model from HuggingFace"
      ],
      "metadata": {
        "id": "NBnZNNWxfCaC"
      }
    },
    {
      "cell_type": "code",
      "source": [
        "# Use the instruct version of DeepSeek LLM 7B\n",
        "model_name = \"deepseek-ai/deepseek-llm-7b-chat\"\n",
        "\n",
        "# Load tokenizer and model\n",
        "tokenizer = AutoTokenizer.from_pretrained(model_name)\n",
        "model = AutoModelForCausalLM.from_pretrained(\n",
        "    model_name,\n",
        "    torch_dtype=torch.float16,\n",
        "    device_map=\"auto\"\n",
        ")"
      ],
      "metadata": {
        "id": "sQnuTB2PfLrZ"
      },
      "execution_count": null,
      "outputs": []
    },
    {
      "cell_type": "code",
      "source": [
        "# Create a prompt - for instruct models, it's better to use a structured prompt\n",
        "prompt = \"75+450\" #@param {type:\"string\"}\n",
        "inputs = tokenizer(prompt, return_tensors=\"pt\").to(model.device)\n",
        "\n",
        "# Generate text\n",
        "generate_ids = model.generate(\n",
        "    inputs.input_ids,\n",
        "    max_length=1024,\n",
        "    do_sample=True,\n",
        "    temperature=0.7,\n",
        "    top_p=0.9,\n",
        "    repetition_penalty=1.1\n",
        ")"
      ],
      "metadata": {
        "id": "Kn5dqNDufSZY"
      },
      "execution_count": null,
      "outputs": []
    },
    {
      "cell_type": "code",
      "source": [
        "# Decode the generated text\n",
        "output = tokenizer.batch_decode(generate_ids, skip_special_tokens=True, clean_up_tokenization_spaces=False)[0]\n",
        "display(Markdown(output))"
      ],
      "metadata": {
        "id": "v0-errRj4yLV"
      },
      "execution_count": null,
      "outputs": []
    }
  ]
}