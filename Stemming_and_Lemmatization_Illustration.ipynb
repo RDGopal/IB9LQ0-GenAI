{
  "nbformat": 4,
  "nbformat_minor": 0,
  "metadata": {
    "colab": {
      "provenance": [],
      "authorship_tag": "ABX9TyP9MRyH4LRNn+QBzBT9O4eL",
      "include_colab_link": true
    },
    "kernelspec": {
      "name": "python3",
      "display_name": "Python 3"
    },
    "language_info": {
      "name": "python"
    }
  },
  "cells": [
    {
      "cell_type": "markdown",
      "metadata": {
        "id": "view-in-github",
        "colab_type": "text"
      },
      "source": [
        "<a href=\"https://colab.research.google.com/github/RDGopal/IB9LQ0-GenAI/blob/main/Stemming_and_Lemmatization_Illustration.ipynb\" target=\"_parent\"><img src=\"https://colab.research.google.com/assets/colab-badge.svg\" alt=\"Open In Colab\"/></a>"
      ]
    },
    {
      "cell_type": "markdown",
      "source": [
        "#Stemming and Lemmatization"
      ],
      "metadata": {
        "id": "woS36L-wWcSG"
      }
    },
    {
      "cell_type": "code",
      "source": [
        "import re\n",
        "import nltk\n",
        "from nltk.corpus import stopwords\n",
        "from nltk.stem import WordNetLemmatizer, PorterStemmer, SnowballStemmer\n",
        "nltk.download('punkt')\n",
        "nltk.download('punkt_tab')\n",
        "nltk.download('stopwords')\n",
        "nltk.download('wordnet')\n",
        "stemmer = PorterStemmer()\n",
        "lemmatizer = WordNetLemmatizer()"
      ],
      "metadata": {
        "id": "4cvYKHhF4PwB"
      },
      "execution_count": null,
      "outputs": []
    },
    {
      "cell_type": "code",
      "source": [
        "text1 = [\"run\", \"ran\", \"running\"]\n",
        "text2 = [\"are\", \"am\", \"being\",\"been\",\"be\"]\n",
        "text3 = [\"cars\",\"car's\",\"cars\"]\n",
        "text4 = [\"happy\",\"happiness\",\"happily\"]"
      ],
      "metadata": {
        "id": "gtXnMBjh6_md"
      },
      "execution_count": null,
      "outputs": []
    },
    {
      "cell_type": "markdown",
      "source": [
        "##Stemming"
      ],
      "metadata": {
        "id": "zmvsDVZuWilb"
      }
    },
    {
      "cell_type": "code",
      "source": [
        "# Stemming\n",
        "stem_words1 = [stemmer.stem(word) for word in text1]\n",
        "stem_words2 = [stemmer.stem(word) for word in text2]\n",
        "stem_words3 = [stemmer.stem(word) for word in text3]\n",
        "stem_words4 = [stemmer.stem(word) for word in text4]\n",
        "\n",
        "\n",
        "# print\n",
        "for stem_word_list in [stem_words1, stem_words2, stem_words3, stem_words4]:\n",
        "  print(stem_word_list)\n"
      ],
      "metadata": {
        "id": "rEtQ-od16Epd"
      },
      "execution_count": null,
      "outputs": []
    },
    {
      "cell_type": "code",
      "source": [
        "text1 = [\"run\", \"ran\", \"running\"]\n",
        "text2 = [\"are\", \"am\", \"being\",\"been\",\"be\"]\n",
        "text3 = [\"cars\",\"car's\",\"cars\"]\n",
        "text4 = [\"happy\",\"happiness\",\"happily\"]"
      ],
      "metadata": {
        "id": "XYh2LbQoSldX"
      },
      "execution_count": null,
      "outputs": []
    },
    {
      "cell_type": "markdown",
      "source": [
        "##Lemmatization"
      ],
      "metadata": {
        "id": "dmTBZdnyWlF0"
      }
    },
    {
      "cell_type": "code",
      "source": [
        "# Lemmatization\n",
        "lemmatized_text1 = [lemmatizer.lemmatize(word,pos=\"v\") for word in text1]\n",
        "lemmatized_text2 = [lemmatizer.lemmatize(word,pos=\"v\") for word in text2]\n",
        "lemmatized_text3 = [lemmatizer.lemmatize(word,pos=\"v\") for word in text3]\n",
        "lemmatized_text4 = [lemmatizer.lemmatize(word,pos=\"v\") for word in text4]\n",
        "\n",
        "# print\n",
        "for lemmatized_list in [lemmatized_text1, lemmatized_text2, lemmatized_text3, lemmatized_text4]:\n",
        "  print(lemmatized_list)"
      ],
      "metadata": {
        "id": "lnRSvrZ15DVu"
      },
      "execution_count": null,
      "outputs": []
    }
  ]
}