{
  "nbformat": 4,
  "nbformat_minor": 0,
  "metadata": {
    "colab": {
      "provenance": [],
      "authorship_tag": "ABX9TyPvD+2YyZCg7TvFFK2msnk0",
      "include_colab_link": true
    },
    "kernelspec": {
      "name": "python3",
      "display_name": "Python 3"
    },
    "language_info": {
      "name": "python"
    }
  },
  "cells": [
    {
      "cell_type": "markdown",
      "metadata": {
        "id": "view-in-github",
        "colab_type": "text"
      },
      "source": [
        "<a href=\"https://colab.research.google.com/github/RDGopal/IB9LQ0-GenAI/blob/main/tf_idf_illustration.ipynb\" target=\"_parent\"><img src=\"https://colab.research.google.com/assets/colab-badge.svg\" alt=\"Open In Colab\"/></a>"
      ]
    },
    {
      "cell_type": "markdown",
      "source": [
        "#tf-idf Illustration"
      ],
      "metadata": {
        "id": "1qi1RBLpmRxs"
      }
    },
    {
      "cell_type": "code",
      "source": [
        "import numpy as np\n",
        "from sklearn.feature_extraction.text import CountVectorizer\n",
        "import pandas as pd\n",
        "\n",
        "# Example documents\n",
        "documents = [\n",
        "    \"good product. I like it.\",\n",
        "    \"product is easy to use. easy peasy.\",\n",
        "    \"like how product works.\",\n",
        "    \"not sure about the product use\"\n",
        "]"
      ],
      "metadata": {
        "id": "F8f2hkM6mX76"
      },
      "execution_count": null,
      "outputs": []
    },
    {
      "cell_type": "markdown",
      "source": [
        "##Count Matrix"
      ],
      "metadata": {
        "id": "JsELRh4pmdsB"
      }
    },
    {
      "cell_type": "code",
      "source": [
        "# Step 1: Count Matrix\n",
        "# This matrix represents the raw count of terms in each document.\n",
        "count_vectorizer = CountVectorizer()\n",
        "count_matrix = count_vectorizer.fit_transform(documents).toarray()\n",
        "terms = count_vectorizer.get_feature_names_out()\n",
        "count_df = pd.DataFrame(count_matrix, index=[f\"Doc {i+1}\" for i in range(len(documents))], columns=terms)\n",
        "print(\"Count Matrix:\")\n",
        "print(count_df.round(3))\n",
        "print(\"\\n\")\n"
      ],
      "metadata": {
        "id": "f0djAtKUmgbA"
      },
      "execution_count": null,
      "outputs": []
    },
    {
      "cell_type": "markdown",
      "source": [
        "##Term Frequency Matrix"
      ],
      "metadata": {
        "id": "T4nUBY_smml6"
      }
    },
    {
      "cell_type": "code",
      "source": [
        "# Step 2: Term Frequency (TF) Matrix\n",
        "# TF is calculated as term count divided by total terms in the document.\n",
        "tf_matrix = count_matrix.astype(float)\n",
        "for i in range(len(tf_matrix)):\n",
        "    tf_matrix[i] /= tf_matrix[i].sum()\n",
        "tf_df = pd.DataFrame(tf_matrix, index=[f\"Doc {i+1}\" for i in range(len(documents))], columns=terms)\n",
        "print(\"Term Frequency (TF) Matrix:\")\n",
        "print(tf_df.round(3))\n",
        "print(\"\\n\")\n"
      ],
      "metadata": {
        "id": "r0ihjsu0mpwx"
      },
      "execution_count": null,
      "outputs": []
    },
    {
      "cell_type": "markdown",
      "source": [
        "##Inverse Document Frequency (IDF) Matrix"
      ],
      "metadata": {
        "id": "TxJgRSIXmuk6"
      }
    },
    {
      "cell_type": "code",
      "source": [
        "# Step 3: Inverse Document Frequency (IDF) Matrix\n",
        "# Traditional IDF formula: IDF(t) = log(N / DF(t))\n",
        "# where N = total number of documents, DF(t) = number of documents containing term t.\n",
        "N = len(documents)\n",
        "df_counts = np.count_nonzero(count_matrix, axis=0)  # Document frequency for each term\n",
        "idf_values = np.log(N / df_counts)  # Applying the traditional formula\n",
        "idf_df = pd.DataFrame([idf_values], index=[\"IDF\"], columns=terms)\n",
        "print(\"Inverse Document Frequency (IDF) Matrix:\")\n",
        "print(idf_df.round(3))\n",
        "print(\"\\n\")"
      ],
      "metadata": {
        "id": "yyiFwYWDmzUy"
      },
      "execution_count": null,
      "outputs": []
    },
    {
      "cell_type": "markdown",
      "source": [
        "## TF-IDF Matrix"
      ],
      "metadata": {
        "id": "YUAxvq9Zm48B"
      }
    },
    {
      "cell_type": "code",
      "source": [
        "# Step 4: TF-IDF Matrix\n",
        "# TF-IDF is computed as: TF-IDF = TF * IDF\n",
        "tfidf_matrix = tf_matrix * idf_values\n",
        "tfidf_df = pd.DataFrame(tfidf_matrix, index=[f\"Doc {i+1}\" for i in range(len(documents))], columns=terms)\n",
        "print(\"TF-IDF Matrix:\")\n",
        "print(tfidf_df.round(3))\n"
      ],
      "metadata": {
        "id": "Z-1SVUpR-RHH"
      },
      "execution_count": null,
      "outputs": []
    },
    {
      "cell_type": "markdown",
      "source": [
        "##Eliminating Terms"
      ],
      "metadata": {
        "id": "PFXUpLjTAXyM"
      }
    },
    {
      "cell_type": "markdown",
      "source": [
        "Process for Eliminating Terms Based on TF-IDF Values\n",
        "When reducing the number of terms, the goal is to remove uninformative words while keeping the most relevant ones. This is done by setting a threshold for TF-IDF values."
      ],
      "metadata": {
        "id": "kug8IGomCmcV"
      }
    },
    {
      "cell_type": "markdown",
      "source": [
        "##Approaches for Selecting Important Terms\n",
        "\n",
        "1. Maximum TF-IDF Scores Across All Documents\n",
        "\n",
        "2. Sum of TF-IDF Scores Across All Documents\n",
        "\n",
        "3. Average TF-IDF Score Across Documents\n",
        "\n",
        "4. TF-IDF Variance Across Documents\n",
        "\n",
        "\n",
        "Pre-filtering common stopwords (e.g., \"the\", \"and\") ensures that frequent but unimportant terms do not skew the results.\n",
        "\n",
        "###Which Approach is Best?\n",
        "* Use **max** TF-IDF when identifying unique keywords in a single document.\n",
        "* Use **sum** TF-IDF when looking for the most important terms across the dataset.\n",
        "* Use **average** TF-IDF when you want a balance between importance and spread across documents.\n",
        "* Use **variance** TF-IDF when identifying words that are highly distinguishing for some documents but not all.\n"
      ],
      "metadata": {
        "id": "BhR898j__aUt"
      }
    },
    {
      "cell_type": "code",
      "source": [
        "# Step 5: Select Top N Terms Based on User Input\n",
        "num_terms_to_keep = int(input(\"Enter the number of terms to keep: \"))\n",
        "print(\"Choose the ranking method:\")\n",
        "print(\"1: Maximum TF-IDF value\")\n",
        "print(\"2: Sum of TF-IDF values across documents\")\n",
        "print(\"3: Average TF-IDF value across documents\")\n",
        "print(\"4: Variance of TF-IDF values across documents\")\n",
        "selection_method = int(input(\"Enter the method number: \"))"
      ],
      "metadata": {
        "id": "P1_ZJUl_nnk5"
      },
      "execution_count": null,
      "outputs": []
    },
    {
      "cell_type": "code",
      "source": [
        "# Compute ranking scores\n",
        "if selection_method == 1:\n",
        "    ranking_scores = tfidf_df.max(axis=0)\n",
        "elif selection_method == 2:\n",
        "    ranking_scores = tfidf_df.sum(axis=0)\n",
        "elif selection_method == 3:\n",
        "    ranking_scores = tfidf_df.mean(axis=0)\n",
        "elif selection_method == 4:\n",
        "    ranking_scores = tfidf_df.var(axis=0)\n",
        "else:\n",
        "    print(\"Invalid selection, defaulting to max TF-IDF.\")\n",
        "    ranking_scores = tfidf_df.max(axis=0)\n",
        "\n",
        "# Select top N terms\n",
        "selected_terms = ranking_scores.nlargest(num_terms_to_keep).index  # Keep top N terms\n",
        "\n",
        "# Filter matrices to keep only selected terms\n",
        "filtered_count_df = count_df[selected_terms]\n",
        "filtered_tf_df = tf_df[selected_terms]\n",
        "filtered_idf_df = idf_df[selected_terms]\n",
        "filtered_tfidf_df = tfidf_df[selected_terms]\n",
        "\n",
        "print(f\"Top {num_terms_to_keep} Terms Selected\")\n",
        "print(\"Filtered Count Matrix:\")\n",
        "print(filtered_count_df.round(3))\n",
        "print(\"\\n\")\n",
        "print(\"Filtered TF Matrix:\")\n",
        "print(filtered_tf_df.round(3))\n",
        "print(\"\\n\")\n",
        "print(\"Filtered IDF Matrix:\")\n",
        "print(filtered_idf_df.round(3))\n",
        "print(\"\\n\")\n",
        "print(\"Filtered TF-IDF Matrix:\")\n",
        "print(filtered_tfidf_df.round(3))"
      ],
      "metadata": {
        "id": "gEEFTmjOBk7G"
      },
      "execution_count": null,
      "outputs": []
    }
  ]
}